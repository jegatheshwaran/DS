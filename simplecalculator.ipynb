{
  "nbformat": 4,
  "nbformat_minor": 0,
  "metadata": {
    "colab": {
      "name": "Untitled6.ipynb",
      "provenance": [],
      "collapsed_sections": [],
      "authorship_tag": "ABX9TyM5gJ9+IoYLMGTghw0Vr7FM",
      "include_colab_link": true
    },
    "kernelspec": {
      "name": "python3",
      "display_name": "Python 3"
    },
    "language_info": {
      "name": "python"
    }
  },
  "cells": [
    {
      "cell_type": "markdown",
      "metadata": {
        "id": "view-in-github",
        "colab_type": "text"
      },
      "source": [
        "<a href=\"https://colab.research.google.com/github/jegatheshwaran/DS/blob/main/simplecalculator.ipynb\" target=\"_parent\"><img src=\"https://colab.research.google.com/assets/colab-badge.svg\" alt=\"Open In Colab\"/></a>"
      ]
    },
    {
      "cell_type": "code",
      "execution_count": null,
      "metadata": {
        "colab": {
          "base_uri": "https://localhost:8080/"
        },
        "id": "yJvghwI29h8F",
        "outputId": "8974dff2-a84f-489b-b857-5efa25e821a2"
      },
      "outputs": [
        {
          "output_type": "stream",
          "name": "stdout",
          "text": [
            "10\n",
            "5\n",
            "Enter input is 1,2,3:2\n",
            "sub: 5\n"
          ]
        }
      ],
      "source": [
        "def sum(a,b):\n",
        "    x=a+b\n",
        "    return x\n",
        "def sub(a,b):\n",
        "    x=a-b\n",
        "    return x\n",
        "def mul(a,b):\n",
        "    x=a*b\n",
        "    return x\n",
        "a=int(input())\n",
        "b=int(input())\n",
        "while(True):\n",
        "    c=int(input(\"Enter input is 1,2,3:\"))\n",
        "    if c in (1,2,3):\n",
        "            if c==1:\n",
        "                print(\"sum:\",sum(a,b))\n",
        "            if c==2:\n",
        "                print(\"sub:\",sub(a,b))\n",
        "            if c==3:\n",
        "                print(\"mul:\",mul(a,b))\n",
        "        \n",
        "    else:\n",
        "        print(\"enter valid no.\")\n",
        "        break"
      ]
    }
  ]
}